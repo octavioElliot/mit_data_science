{
 "cells": [
  {
   "cell_type": "code",
   "execution_count": 21,
   "metadata": {},
   "outputs": [],
   "source": [
    "\n",
    "import pandas as pd\n",
    "import seaborn as sns\n",
    "import numpy as np\n",
    "import matplotlib.pyplot as plt\n",
    "import fbprophet\n",
    "import pickle\n",
    "import scipy.optimize as optim\n",
    "import logging\n",
    "\n",
    "logging.getLogger().setLevel(logging.ERROR)\n",
    "    \n",
    "\n",
    "%matplotlib inline\n",
    "\n",
    "plt.style.use('bmh')\n",
    "\n",
    "%store -r WORKDIR\n",
    "\n",
    "if 'WORKDIR' not in dir():\n",
    "    WORKDIR = 'C:/Users/BZ241WX/Documents/InfNet/CursoPosDataScience/mit_data_science/'\n",
    "\n",
    "\n",
    "\n",
    "max_date = '2020-08-01'\n",
    "min_samples = 30\n",
    "\n",
    "\n",
    "data_proc_file = WORKDIR + '/Data/Processed/covid19_data_modeling.parquet'\n",
    "model_score_file = WORKDIR + '/Data/Modeling/model_scores.parquet'\n",
    "model_file = WORKDIR + '/Data/Modeling/trained_models.jbl'\n",
    "\n",
    "time_col = 'date'\n",
    "grain_col = 'countrycode'\n",
    "target_col = 'cases'\n",
    "countrycode_list = ['US','CN','BR','IT','FR','UK']\n",
    "\n",
    "ntest = 15\n",
    "\n",
    "pd.plotting.register_matplotlib_converters()"
   ]
  },
  {
   "cell_type": "markdown",
   "metadata": {},
   "source": [
    "# Carga dos Dados "
   ]
  },
  {
   "cell_type": "code",
   "execution_count": 6,
   "metadata": {},
   "outputs": [
    {
     "name": "stdout",
     "output_type": "stream",
     "text": [
      "shape: (10751, 5)\n",
      "columns: Index(['cases', 'countrycode', 'date', 'deaths', 'recovered'], dtype='object')\n"
     ]
    }
   ],
   "source": [
    "df = pd.read_parquet(data_proc_file)\n",
    "\n",
    "df = df[df[time_col] < max_date]\n",
    "\n",
    "print('shape:', df.shape)\n",
    "print('columns:', df.columns)"
   ]
  },
  {
   "cell_type": "markdown",
   "metadata": {},
   "source": [
    "# Treino / Teste "
   ]
  },
  {
   "cell_type": "code",
   "execution_count": 7,
   "metadata": {},
   "outputs": [
    {
     "name": "stdout",
     "output_type": "stream",
     "text": [
      "Train: (7976, 5)\n",
      "Test : (2775, 5)\n"
     ]
    }
   ],
   "source": [
    "def split_last_n_by_grain(df, ntest, time_column_name, grain_column_names):\n",
    "    \"\"\"Group df by grain and split on last n rows for each group.\"\"\"\n",
    "    df_grouped = (df.sort_values(time_column_name) # Sort by ascending time\n",
    "                  .groupby(grain_column_names, group_keys=False))\n",
    "    df_head = df_grouped.apply(lambda dfg: dfg.iloc[:-ntest])\n",
    "    df_tail = df_grouped.apply(lambda dfg: dfg.iloc[-ntest:])\n",
    "    return df_head, df_tail\n",
    "\n",
    "\n",
    "df_train, df_test = split_last_n_by_grain(df, ntest, time_col, grain_col)\n",
    "\n",
    "print('Train:', df_train.shape)\n",
    "print('Test :', df_test.shape)"
   ]
  },
  {
   "cell_type": "markdown",
   "metadata": {},
   "source": [
    "# Construção do Pipeline "
   ]
  },
  {
   "cell_type": "code",
   "execution_count": 8,
   "metadata": {},
   "outputs": [
    {
     "name": "stderr",
     "output_type": "stream",
     "text": [
      "INFO:fbprophet:Disabling yearly seasonality. Run prophet with yearly_seasonality=True to override this.\n",
      "INFO:fbprophet:Disabling daily seasonality. Run prophet with daily_seasonality=True to override this.\n"
     ]
    },
    {
     "name": "stdout",
     "output_type": "stream",
     "text": [
      "Processing  US"
     ]
    },
    {
     "name": "stderr",
     "output_type": "stream",
     "text": [
      "INFO:fbprophet:Disabling yearly seasonality. Run prophet with yearly_seasonality=True to override this.\n",
      "INFO:fbprophet:Disabling daily seasonality. Run prophet with daily_seasonality=True to override this.\n"
     ]
    },
    {
     "name": "stdout",
     "output_type": "stream",
     "text": [
      " mape 0.93 %\n"
     ]
    },
    {
     "name": "stderr",
     "output_type": "stream",
     "text": [
      "INFO:fbprophet:Disabling yearly seasonality. Run prophet with yearly_seasonality=True to override this.\n",
      "INFO:fbprophet:Disabling daily seasonality. Run prophet with daily_seasonality=True to override this.\n"
     ]
    },
    {
     "name": "stdout",
     "output_type": "stream",
     "text": [
      "Processing  CN"
     ]
    },
    {
     "name": "stderr",
     "output_type": "stream",
     "text": [
      "INFO:fbprophet:Disabling yearly seasonality. Run prophet with yearly_seasonality=True to override this.\n",
      "INFO:fbprophet:Disabling daily seasonality. Run prophet with daily_seasonality=True to override this.\n",
      "INFO:fbprophet:Disabling yearly seasonality. Run prophet with yearly_seasonality=True to override this.\n",
      "INFO:fbprophet:Disabling daily seasonality. Run prophet with daily_seasonality=True to override this.\n"
     ]
    },
    {
     "name": "stdout",
     "output_type": "stream",
     "text": [
      " mape 0.56 %\n",
      "Processing  BR"
     ]
    },
    {
     "name": "stderr",
     "output_type": "stream",
     "text": [
      "INFO:fbprophet:Disabling yearly seasonality. Run prophet with yearly_seasonality=True to override this.\n",
      "INFO:fbprophet:Disabling daily seasonality. Run prophet with daily_seasonality=True to override this.\n"
     ]
    },
    {
     "name": "stdout",
     "output_type": "stream",
     "text": [
      " mape 21.18 %\n"
     ]
    },
    {
     "name": "stderr",
     "output_type": "stream",
     "text": [
      "INFO:fbprophet:Disabling yearly seasonality. Run prophet with yearly_seasonality=True to override this.\n",
      "INFO:fbprophet:Disabling daily seasonality. Run prophet with daily_seasonality=True to override this.\n"
     ]
    },
    {
     "name": "stdout",
     "output_type": "stream",
     "text": [
      "Processing  IT"
     ]
    },
    {
     "name": "stderr",
     "output_type": "stream",
     "text": [
      "INFO:fbprophet:Disabling yearly seasonality. Run prophet with yearly_seasonality=True to override this.\n",
      "INFO:fbprophet:Disabling daily seasonality. Run prophet with daily_seasonality=True to override this.\n"
     ]
    },
    {
     "name": "stdout",
     "output_type": "stream",
     "text": [
      " mape 5.58 %\n"
     ]
    },
    {
     "name": "stderr",
     "output_type": "stream",
     "text": [
      "INFO:fbprophet:Disabling yearly seasonality. Run prophet with yearly_seasonality=True to override this.\n",
      "INFO:fbprophet:Disabling daily seasonality. Run prophet with daily_seasonality=True to override this.\n"
     ]
    },
    {
     "name": "stdout",
     "output_type": "stream",
     "text": [
      "Processing  FR"
     ]
    },
    {
     "name": "stderr",
     "output_type": "stream",
     "text": [
      "INFO:fbprophet:Disabling yearly seasonality. Run prophet with yearly_seasonality=True to override this.\n",
      "INFO:fbprophet:Disabling daily seasonality. Run prophet with daily_seasonality=True to override this.\n"
     ]
    },
    {
     "name": "stdout",
     "output_type": "stream",
     "text": [
      " mape 23.06 %\n",
      "Processing  UK=> less than 30 . Ignored.( 0 )\n"
     ]
    }
   ],
   "source": [
    "def mape(y_true, y_pred):\n",
    "    return ((y_pred - y_true).abs()/y_true).mean() * 100\n",
    "    \n",
    "trained_models = {}\n",
    "df_model_result=pd.DataFrame()\n",
    "result_list = []\n",
    "for countrycode in countrycode_list:\n",
    "    print('Processing ', countrycode, end='')\n",
    "    Xtrn = df_train[df_train[grain_col] == countrycode][[time_col, target_col]].copy()\n",
    "    Xtst = df_test[df_test[grain_col] == countrycode].groupby(time_col)[target_col].sum()\n",
    "    Xrefit = df[df[grain_col] == countrycode][[time_col, target_col]].copy()\n",
    "    \n",
    "    Xtrn.columns = ['ds', 'y']\n",
    "    if Xtrn.shape[0] < min_samples:\n",
    "        print('=> less than', min_samples, '. Ignored.(', Xtrn.shape[0],')')\n",
    "        continue\n",
    "    \n",
    "    model = fbprophet.Prophet(growth='linear').fit(Xtrn)\n",
    "    \n",
    "    # Evaluate Model\n",
    "    n_periods = Xtst.shape[0]\n",
    "    forecast_data = model.make_future_dataframe(\n",
    "        periods=n_periods,\n",
    "        include_history=True\n",
    "        )\n",
    "    df_forecast = model.predict(forecast_data).set_index('ds')\n",
    "    forecast     = df_forecast.yhat[-n_periods:].rename('forecast')\n",
    "    forecast_low  =  df_forecast.yhat_lower[-n_periods:].rename('forecast_lo')\n",
    "    forecast_up   =  df_forecast.yhat_upper[-n_periods:].rename('forecast_up')\n",
    "    \n",
    "    # Score model\n",
    "    score = mape(Xtst, forecast)\n",
    "    print(' mape %.2f %%'%score)\n",
    "    \n",
    "    # Refit model\n",
    "    Xrefit.columns = ['ds','y']\n",
    "    trained_models[countrycode] = fbprophet.Prophet(growth='linear').fit(Xrefit)\n",
    "    \n",
    "    #result list\n",
    "    result_list.append({'countrycode':countrycode,\n",
    "                        'model_name': 'prophet',\n",
    "                        'date_begin': Xrefit.ds.min(),\n",
    "                        'date_end'  : Xrefit.ds.max(),\n",
    "                        'score': score})\n",
    "    \n",
    "df_results = pd.DataFrame().from_dict(result_list)"
   ]
  },
  {
   "cell_type": "markdown",
   "metadata": {},
   "source": [
    "# Exportar os resultados e modelagem "
   ]
  },
  {
   "cell_type": "code",
   "execution_count": 16,
   "metadata": {},
   "outputs": [
    {
     "name": "stdout",
     "output_type": "stream",
     "text": [
      "../../Data/Modeling/model_scores_2020-04-30.parquet\n"
     ]
    },
    {
     "data": {
      "text/html": [
       "<div>\n",
       "<style scoped>\n",
       "    .dataframe tbody tr th:only-of-type {\n",
       "        vertical-align: middle;\n",
       "    }\n",
       "\n",
       "    .dataframe tbody tr th {\n",
       "        vertical-align: top;\n",
       "    }\n",
       "\n",
       "    .dataframe thead th {\n",
       "        text-align: right;\n",
       "    }\n",
       "</style>\n",
       "<table border=\"1\" class=\"dataframe\">\n",
       "  <thead>\n",
       "    <tr style=\"text-align: right;\">\n",
       "      <th></th>\n",
       "      <th>countrycode</th>\n",
       "      <th>date_begin</th>\n",
       "      <th>date_end</th>\n",
       "      <th>model_name</th>\n",
       "      <th>score</th>\n",
       "    </tr>\n",
       "  </thead>\n",
       "  <tbody>\n",
       "    <tr>\n",
       "      <th>0</th>\n",
       "      <td>US</td>\n",
       "      <td>2020-01-22</td>\n",
       "      <td>2020-04-30</td>\n",
       "      <td>prophet</td>\n",
       "      <td>0.927120</td>\n",
       "    </tr>\n",
       "    <tr>\n",
       "      <th>1</th>\n",
       "      <td>CN</td>\n",
       "      <td>2020-01-22</td>\n",
       "      <td>2020-04-30</td>\n",
       "      <td>prophet</td>\n",
       "      <td>0.564901</td>\n",
       "    </tr>\n",
       "    <tr>\n",
       "      <th>2</th>\n",
       "      <td>BR</td>\n",
       "      <td>2020-02-26</td>\n",
       "      <td>2020-04-30</td>\n",
       "      <td>prophet</td>\n",
       "      <td>21.179157</td>\n",
       "    </tr>\n",
       "    <tr>\n",
       "      <th>3</th>\n",
       "      <td>IT</td>\n",
       "      <td>2020-01-31</td>\n",
       "      <td>2020-04-30</td>\n",
       "      <td>prophet</td>\n",
       "      <td>5.583808</td>\n",
       "    </tr>\n",
       "    <tr>\n",
       "      <th>4</th>\n",
       "      <td>FR</td>\n",
       "      <td>2020-01-24</td>\n",
       "      <td>2020-04-30</td>\n",
       "      <td>prophet</td>\n",
       "      <td>23.059688</td>\n",
       "    </tr>\n",
       "  </tbody>\n",
       "</table>\n",
       "</div>"
      ],
      "text/plain": [
       "  countrycode date_begin   date_end model_name      score\n",
       "0          US 2020-01-22 2020-04-30    prophet   0.927120\n",
       "1          CN 2020-01-22 2020-04-30    prophet   0.564901\n",
       "2          BR 2020-02-26 2020-04-30    prophet  21.179157\n",
       "3          IT 2020-01-31 2020-04-30    prophet   5.583808\n",
       "4          FR 2020-01-24 2020-04-30    prophet  23.059688"
      ]
     },
     "execution_count": 16,
     "metadata": {},
     "output_type": "execute_result"
    }
   ],
   "source": [
    "# exportar a tabela de resultados\n",
    "df_results.to_parquet(model_score_file)\n",
    "\n",
    "filename = model_score_file.replace(\".parquet\",\"_\" + df_results.date_end.max().date().strftime('%Y-%m-%d') + \".parquet\") \n",
    "df_results.to_parquet(filename)\n",
    "\n",
    "\n",
    "with open(model_file, 'wb') as fid:\n",
    "    pickle.dump(trained_models, fid)\n",
    "\n",
    "\n",
    "filename = model_file.replace(\".jbl\",\"_\" + df_results.date_end.max().date().strftime('%Y-%m-%d') + \".jbl\")     \n",
    "with open(model_file, 'wb') as fid:\n",
    "    pickle.dump(trained_models, fid)\n",
    "    \n",
    "    \n",
    "df_results.head()"
   ]
  }
 ],
 "metadata": {
  "kernelspec": {
   "display_name": "Python 3",
   "language": "python",
   "name": "python3"
  },
  "language_info": {
   "codemirror_mode": {
    "name": "ipython",
    "version": 3
   },
   "file_extension": ".py",
   "mimetype": "text/x-python",
   "name": "python",
   "nbconvert_exporter": "python",
   "pygments_lexer": "ipython3",
   "version": "3.7.4"
  }
 },
 "nbformat": 4,
 "nbformat_minor": 4
}
