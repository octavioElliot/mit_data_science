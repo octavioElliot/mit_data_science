{
 "cells": [
  {
   "cell_type": "code",
   "execution_count": 46,
   "metadata": {},
   "outputs": [],
   "source": [
    "import requests\n",
    "import pandas as pd\n",
    "import pickle\n",
    "import json\n",
    "from datetime import datetime\n",
    "import matplotlib.pyplot as plt\n",
    "\n",
    "\n",
    "\n",
    "\n",
    "%store -r WORKDIR\n",
    "\n",
    "if 'WORKDIR' not in dir():\n",
    "    WORKDIR = 'C:/Users/BZ241WX/Documents/InfNet/CursoPosDataScience/mit_data_science/'\n",
    "\n",
    "\n",
    "%matplotlib inline\n",
    "\n",
    "baseurl = 'https://thevirustracker.com/timeline/map-data.json'\n",
    "\n",
    "countrycode = 'BR'\n",
    "\n",
    "time_col = 'date'\n",
    "\n",
    "max_forecast_date = '2020-07-25'\n",
    "\n",
    "data_proc_file = WORKDIR + '/Data/Processed/covid19_data_modeling.parquet'\n",
    "model_score_file = WORKDIR + '/Data/Modeling/model_scores.parquet'\n",
    "model_file = WORKDIR + '/Data/Modeling/trained_models.jbl'\n",
    "\n",
    "\n",
    "pd.plotting.register_matplotlib_converters()"
   ]
  },
  {
   "cell_type": "markdown",
   "metadata": {},
   "source": [
    "# Carrega Modelos "
   ]
  },
  {
   "cell_type": "code",
   "execution_count": 47,
   "metadata": {},
   "outputs": [
    {
     "data": {
      "text/plain": [
       "dict_keys(['US', 'CN', 'BR', 'IT', 'FR'])"
      ]
     },
     "execution_count": 47,
     "metadata": {},
     "output_type": "execute_result"
    }
   ],
   "source": [
    "with open(model_file, 'rb') as fid:\n",
    "    trained_models = pickle.load(fid)\n",
    "\n",
    "trained_models.keys()"
   ]
  },
  {
   "cell_type": "code",
   "execution_count": 48,
   "metadata": {},
   "outputs": [
    {
     "data": {
      "text/plain": [
       "<fbprophet.forecaster.Prophet at 0x259415d5948>"
      ]
     },
     "execution_count": 48,
     "metadata": {},
     "output_type": "execute_result"
    }
   ],
   "source": [
    "trained_models['BR']"
   ]
  },
  {
   "cell_type": "markdown",
   "metadata": {},
   "source": [
    "# Carrega Tabela de Resultado da Modelagem "
   ]
  },
  {
   "cell_type": "code",
   "execution_count": 49,
   "metadata": {},
   "outputs": [
    {
     "data": {
      "text/html": [
       "<div>\n",
       "<style scoped>\n",
       "    .dataframe tbody tr th:only-of-type {\n",
       "        vertical-align: middle;\n",
       "    }\n",
       "\n",
       "    .dataframe tbody tr th {\n",
       "        vertical-align: top;\n",
       "    }\n",
       "\n",
       "    .dataframe thead th {\n",
       "        text-align: right;\n",
       "    }\n",
       "</style>\n",
       "<table border=\"1\" class=\"dataframe\">\n",
       "  <thead>\n",
       "    <tr style=\"text-align: right;\">\n",
       "      <th></th>\n",
       "      <th>countrycode</th>\n",
       "      <th>date_begin</th>\n",
       "      <th>date_end</th>\n",
       "      <th>model_name</th>\n",
       "      <th>score</th>\n",
       "    </tr>\n",
       "  </thead>\n",
       "  <tbody>\n",
       "    <tr>\n",
       "      <th>0</th>\n",
       "      <td>US</td>\n",
       "      <td>2020-01-22</td>\n",
       "      <td>2020-05-31</td>\n",
       "      <td>prophet</td>\n",
       "      <td>3.261371</td>\n",
       "    </tr>\n",
       "    <tr>\n",
       "      <th>1</th>\n",
       "      <td>CN</td>\n",
       "      <td>2020-01-22</td>\n",
       "      <td>2020-05-31</td>\n",
       "      <td>prophet</td>\n",
       "      <td>1.543970</td>\n",
       "    </tr>\n",
       "    <tr>\n",
       "      <th>2</th>\n",
       "      <td>BR</td>\n",
       "      <td>2020-02-26</td>\n",
       "      <td>2020-05-31</td>\n",
       "      <td>prophet</td>\n",
       "      <td>18.699037</td>\n",
       "    </tr>\n",
       "    <tr>\n",
       "      <th>3</th>\n",
       "      <td>IT</td>\n",
       "      <td>2020-01-31</td>\n",
       "      <td>2020-05-31</td>\n",
       "      <td>prophet</td>\n",
       "      <td>4.289474</td>\n",
       "    </tr>\n",
       "    <tr>\n",
       "      <th>4</th>\n",
       "      <td>FR</td>\n",
       "      <td>2020-01-24</td>\n",
       "      <td>2020-05-31</td>\n",
       "      <td>prophet</td>\n",
       "      <td>4.173835</td>\n",
       "    </tr>\n",
       "  </tbody>\n",
       "</table>\n",
       "</div>"
      ],
      "text/plain": [
       "  countrycode date_begin   date_end model_name      score\n",
       "0          US 2020-01-22 2020-05-31    prophet   3.261371\n",
       "1          CN 2020-01-22 2020-05-31    prophet   1.543970\n",
       "2          BR 2020-02-26 2020-05-31    prophet  18.699037\n",
       "3          IT 2020-01-31 2020-05-31    prophet   4.289474\n",
       "4          FR 2020-01-24 2020-05-31    prophet   4.173835"
      ]
     },
     "execution_count": 49,
     "metadata": {},
     "output_type": "execute_result"
    }
   ],
   "source": [
    "df_models = pd.read_parquet(model_score_file)\n",
    "df_models.head()"
   ]
  },
  {
   "cell_type": "markdown",
   "metadata": {},
   "source": [
    "# Carrega Dados Atualizados "
   ]
  },
  {
   "cell_type": "code",
   "execution_count": 50,
   "metadata": {},
   "outputs": [
    {
     "name": "stdout",
     "output_type": "stream",
     "text": [
      "shape: (150, 5)\n",
      "columns: Index(['cases', 'countrycode', 'date', 'deaths', 'recovered'], dtype='object')\n"
     ]
    }
   ],
   "source": [
    "data = pd.read_parquet(data_proc_file)\n",
    "\n",
    "data = data[data[time_col] < max_forecast_date]\n",
    "data = data[data.countrycode == countrycode].copy()\n",
    "\n",
    "print('shape:', data.shape)\n",
    "print('columns:', data.columns)"
   ]
  },
  {
   "cell_type": "markdown",
   "metadata": {},
   "source": [
    "# Previsão até a data retornada "
   ]
  },
  {
   "cell_type": "code",
   "execution_count": 51,
   "metadata": {},
   "outputs": [],
   "source": [
    "if countrycode not in trained_models.keys():\n",
    "    raise Exception(\"Country code not found:\" + countrycode)\n",
    "\n",
    "model = trained_models[countrycode]\n",
    "model_last_date = df_models[df_models.countrycode==countrycode].date_end.dt.date.values[0]\n",
    "date_max = datetime.strptime(max_forecast_date, '%Y-%m-%d').date()\n",
    "\n",
    "# Evaluate Model\n",
    "n_periods = (date_max - model_last_date).days\n",
    "forecast_data = model.make_future_dataframe(\n",
    "    periods=n_periods,\n",
    "    include_history=True\n",
    "    )\n",
    "df_forecast = model.predict(forecast_data).set_index('ds')\n",
    "forecast     = df_forecast.yhat[-n_periods:].rename('forecast')\n",
    "forecast_low  =  df_forecast.yhat_lower[-n_periods:].rename('forecast_lo')\n",
    "forecast_up   =  df_forecast.yhat_upper[-n_periods:].rename('forecast_up')\n",
    "\n"
   ]
  },
  {
   "cell_type": "markdown",
   "metadata": {},
   "source": [
    "# Plot da Previsão e do Real "
   ]
  },
  {
   "cell_type": "code",
   "execution_count": 52,
   "metadata": {},
   "outputs": [
    {
     "data": {
      "image/png": "[encoded data removed]",
      "text/plain": [
       "<Figure size 432x288 with 1 Axes>"
      ]
     },
     "metadata": {
      "needs_background": "light"
     },
     "output_type": "display_data"
    }
   ],
   "source": [
    "pd.plotting.register_matplotlib_converters()\n",
    "\n",
    "(data.groupby(['date']).cases.sum() * 1e-3).plot(label='Real')\n",
    "(forecast * 1e-3).plot(label='Forecast')\n",
    "plt.legend()\n",
    "plt.xlabel('')\n",
    "plt.ylabel('#casos (em Milhares)')\n",
    "plt.grid()\n"
   ]
  }
 ],
 "metadata": {
  "kernelspec": {
   "display_name": "Python 3",
   "language": "python",
   "name": "python3"
  },
  "language_info": {
   "codemirror_mode": {
    "name": "ipython",
    "version": 3
   },
   "file_extension": ".py",
   "mimetype": "text/x-python",
   "name": "python",
   "nbconvert_exporter": "python",
   "pygments_lexer": "ipython3",
   "version": "3.7.4"
  }
 },
 "nbformat": 4,
 "nbformat_minor": 4
}
