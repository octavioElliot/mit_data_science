{
 "cells": [
  {
   "cell_type": "code",
   "execution_count": 99,
   "metadata": {},
   "outputs": [],
   "source": [
    "import requests\n",
    "import pandas as pd\n",
    "import pickle\n",
    "import json\n",
    "from datetime import datetime\n",
    "import matplotlib.pyplot as plt\n",
    "\n",
    "\n",
    "%store -r WORKDIR\n",
    "\n",
    "if 'WORKDIR' not in dir():\n",
    "    WORKDIR = 'C:/Users/BZ241WX/Documents/InfNet/CursoPosDataScience/mit_data_science/'\n",
    "\n",
    "\n",
    "%matplotlib inline\n",
    "\n",
    "\n",
    "base_url = 'http://127.0.0.1:8000/'\n",
    "\n",
    "\n",
    "max_forecast_date = '2020-10-01'\n",
    "model_name = 'prophet'\n",
    "countrycode_list = ['US','CN','BR','IT','FR',]\n",
    "\n",
    "\n",
    "pd.plotting.register_matplotlib_converters()"
   ]
  },
  {
   "cell_type": "markdown",
   "metadata": {},
   "source": [
    "# Get Forecasts "
   ]
  },
  {
   "cell_type": "code",
   "execution_count": 100,
   "metadata": {},
   "outputs": [],
   "source": [
    "url = base_url + 'forecast_country/'\n",
    "forecast_list = []\n",
    "for code in countrycode_list:\n",
    "    params={\n",
    "        'countrycode': code,\n",
    "        'model_name': model_name,\n",
    "        'to_date': max_forecast_date\n",
    "    }\n",
    "    response = requests.get(url, params).json()\n",
    "    df = pd.DataFrame().from_dict(response)\n",
    "    df['countrycode'] = code\n",
    "    forecast_list.append(df)\n",
    "df_forecasts = pd.concat(forecast_list)\n",
    "df_forecasts['date'] = pd.to_datetime(df_forecasts['date'], format='%Y-%m-%d')"
   ]
  },
  {
   "cell_type": "markdown",
   "metadata": {},
   "source": [
    "# Top Casos estimados "
   ]
  },
  {
   "cell_type": "code",
   "execution_count": 101,
   "metadata": {},
   "outputs": [
    {
     "data": {
      "text/plain": [
       "countrycode\n",
       "US    8.034749e+06\n",
       "BR    4.934789e+06\n",
       "IT    2.601213e+05\n",
       "FR    2.541398e+05\n",
       "CN    8.756257e+04\n",
       "Name: estimated_cases, dtype: float64"
      ]
     },
     "execution_count": 101,
     "metadata": {},
     "output_type": "execute_result"
    }
   ],
   "source": [
    "df_forecasts.groupby(['countrycode',]).estimated_cases.last().sort_values(ascending=False)"
   ]
  },
  {
   "cell_type": "markdown",
   "metadata": {},
   "source": [
    "# Carregar dados reais "
   ]
  },
  {
   "cell_type": "code",
   "execution_count": 102,
   "metadata": {},
   "outputs": [],
   "source": [
    "url = base_url + 'measurements'\n",
    "history_list = []\n",
    "for code in countrycode_list:\n",
    "    params={\n",
    "        'countrycode': code,\n",
    "    }\n",
    "    response = requests.get(url, params).json()\n",
    "    df = pd.DataFrame.from_dict(response)\n",
    "    df['countrycode'] = code\n",
    "    history_list.append(df)\n",
    "df_history = pd.concat(history_list)\n",
    "df_history['date'] = pd.to_datetime(df_history['date'], format='%Y-%m-%d')"
   ]
  },
  {
   "cell_type": "markdown",
   "metadata": {},
   "source": [
    "# Plot da Previsão e do Real "
   ]
  },
  {
   "cell_type": "code",
   "execution_count": 106,
   "metadata": {},
   "outputs": [
    {
     "data": {
      "image/png": "[encoded data removed]",
      "text/plain": [
       "<Figure size 432x288 with 1 Axes>"
      ]
     },
     "metadata": {
      "needs_background": "light"
     },
     "output_type": "display_data"
    }
   ],
   "source": [
    "countrycode = 'IT'\n",
    "\n",
    "pd.plotting.register_matplotlib_converters()\n",
    "\n",
    "(df_history[df_history.countrycode==countrycode].groupby(['date']).cases.sum() * 1e-3).plot(label='Real')\n",
    "(df_forecasts[df_forecasts.countrycode==countrycode].groupby(['date']).estimated_cases.sum() * 1e-3).plot(label='Forecast')\n",
    "\n",
    "plt.legend()\n",
    "plt.xlabel('')\n",
    "plt.ylabel('#casos (em Milhares)')\n",
    "plt.grid()\n"
   ]
  },
  {
   "cell_type": "markdown",
   "metadata": {},
   "source": [
    "# Update Models "
   ]
  },
  {
   "cell_type": "code",
   "execution_count": 104,
   "metadata": {},
   "outputs": [],
   "source": [
    "# url = base_url + 'update_models/'\n",
    "# response = requests.get(url)\n",
    "\n"
   ]
  },
  {
   "cell_type": "code",
   "execution_count": null,
   "metadata": {},
   "outputs": [],
   "source": []
  }
 ],
 "metadata": {
  "kernelspec": {
   "display_name": "Python 3",
   "language": "python",
   "name": "python3"
  },
  "language_info": {
   "codemirror_mode": {
    "name": "ipython",
    "version": 3
   },
   "file_extension": ".py",
   "mimetype": "text/x-python",
   "name": "python",
   "nbconvert_exporter": "python",
   "pygments_lexer": "ipython3",
   "version": "3.7.4"
  }
 },
 "nbformat": 4,
 "nbformat_minor": 4
}
